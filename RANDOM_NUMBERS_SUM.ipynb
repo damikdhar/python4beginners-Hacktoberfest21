{
 "cells": [
  {
   "cell_type": "code",
   "execution_count": null,
   "metadata": {},
   "outputs": [],
   "source": [
    "#random numbers\n",
    "#Take between 1 to 100\n",
    "\n",
    "import random\n",
    "s=0\n",
    "l=[]\n",
    "for i in range(10):\n",
    "    n=random.randint(1,100)\n",
    "    l.append(n)\n",
    "    s+=n\n",
    "print(\"RANDOM NUMBERS\")\n",
    "for j in l:\n",
    "    print(j,end=\"  \")\n",
    "print(\"\\n\")\n",
    "print(\"Sum=\", s)"
   ]
  }
 ],
 "metadata": {
  "kernelspec": {
   "display_name": "Python 3",
   "language": "python",
   "name": "python3"
  },
  "language_info": {
   "codemirror_mode": {
    "name": "ipython",
    "version": 3
   },
   "file_extension": ".py",
   "mimetype": "text/x-python",
   "name": "python",
   "nbconvert_exporter": "python",
   "pygments_lexer": "ipython3",
   "version": "3.8.5"
  }
 },
 "nbformat": 4,
 "nbformat_minor": 4
}
